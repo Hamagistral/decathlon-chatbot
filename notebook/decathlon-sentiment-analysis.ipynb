{
 "cells": [
  {
   "attachments": {},
   "cell_type": "markdown",
   "metadata": {},
   "source": [
    "# 😄 Sentiment Analysis on Decathlon's Popular Products"
   ]
  },
  {
   "attachments": {},
   "cell_type": "markdown",
   "metadata": {},
   "source": [
    "## I. 📑 Importing libraries"
   ]
  },
  {
   "cell_type": "code",
   "execution_count": 64,
   "metadata": {},
   "outputs": [],
   "source": [
    "import pandas as pd\n",
    "import numpy as np\n",
    "import matplotlib.pyplot as plt\n",
    "import seaborn as sns\n",
    "import nltk\n",
    "import re\n",
    "\n",
    "plt.style.use('ggplot')"
   ]
  },
  {
   "attachments": {},
   "cell_type": "markdown",
   "metadata": {},
   "source": [
    "### 1. 🏋🏻 KIT HALTÈRES DE MUSCULATION 20KG (CORENGTH)"
   ]
  },
  {
   "attachments": {},
   "cell_type": "markdown",
   "metadata": {},
   "source": [
    "![Halteres](https://contents.mediadecathlon.com/p2297777/k$05ca32eeb76cc64197c38bd388d678e9/kit-halt%C3%A8res-musculation-20-kg-filet%C3%A9es.jpg?&f=800x800)"
   ]
  },
  {
   "attachments": {},
   "cell_type": "markdown",
   "metadata": {},
   "source": [
    "Importing dataset"
   ]
  },
  {
   "cell_type": "code",
   "execution_count": 65,
   "metadata": {},
   "outputs": [
    {
     "name": "stdout",
     "output_type": "stream",
     "text": [
      "(300, 6)\n"
     ]
    }
   ],
   "source": [
    "df = pd.read_csv('../data/reviews/raw/kit-halteres-reviews.csv')\n",
    "print(df.shape)"
   ]
  },
  {
   "cell_type": "code",
   "execution_count": 66,
   "metadata": {},
   "outputs": [
    {
     "data": {
      "text/html": [
       "<div>\n",
       "<style scoped>\n",
       "    .dataframe tbody tr th:only-of-type {\n",
       "        vertical-align: middle;\n",
       "    }\n",
       "\n",
       "    .dataframe tbody tr th {\n",
       "        vertical-align: top;\n",
       "    }\n",
       "\n",
       "    .dataframe thead th {\n",
       "        text-align: right;\n",
       "    }\n",
       "</style>\n",
       "<table border=\"1\" class=\"dataframe\">\n",
       "  <thead>\n",
       "    <tr style=\"text-align: right;\">\n",
       "      <th></th>\n",
       "      <th>cust_name</th>\n",
       "      <th>review_date</th>\n",
       "      <th>review_title</th>\n",
       "      <th>review_description</th>\n",
       "      <th>range_used</th>\n",
       "      <th>review_score</th>\n",
       "    </tr>\n",
       "  </thead>\n",
       "  <tbody>\n",
       "    <tr>\n",
       "      <th>0</th>\n",
       "      <td>Ouioui</td>\n",
       "      <td>20/02/2023</td>\n",
       "      <td>Tres bon article</td>\n",
       "      <td>Merci Decathlon</td>\n",
       "      <td>Utilise ce produit depuis 2 à 8 semaines</td>\n",
       "      <td>5</td>\n",
       "    </tr>\n",
       "    <tr>\n",
       "      <th>1</th>\n",
       "      <td>Khalid</td>\n",
       "      <td>04/01/2023</td>\n",
       "      <td>Le prix</td>\n",
       "      <td>399dh c'est le juste prix. Pas moyen que quelq...</td>\n",
       "      <td>Utilise ce produit depuis 2 à 8 semaines</td>\n",
       "      <td>3</td>\n",
       "    </tr>\n",
       "    <tr>\n",
       "      <th>2</th>\n",
       "      <td>Mohamed</td>\n",
       "      <td>12/12/2022</td>\n",
       "      <td>beatiful product</td>\n",
       "      <td>very useful product with good quality i advice...</td>\n",
       "      <td>Utilise ce produit depuis 1 semaine ou moins</td>\n",
       "      <td>5</td>\n",
       "    </tr>\n",
       "    <tr>\n",
       "      <th>3</th>\n",
       "      <td>Ouzzine</td>\n",
       "      <td>08/12/2022</td>\n",
       "      <td>رائعة</td>\n",
       "      <td>ثمن مناسب جدا</td>\n",
       "      <td>Utilise ce produit depuis 2 à 8 semaines</td>\n",
       "      <td>5</td>\n",
       "    </tr>\n",
       "    <tr>\n",
       "      <th>4</th>\n",
       "      <td>Hatim</td>\n",
       "      <td>01/12/2022</td>\n",
       "      <td>Bien</td>\n",
       "      <td>Bien</td>\n",
       "      <td>Utilise ce produit depuis 1 semaine ou moins</td>\n",
       "      <td>5</td>\n",
       "    </tr>\n",
       "  </tbody>\n",
       "</table>\n",
       "</div>"
      ],
      "text/plain": [
       "  cust_name review_date      review_title  \\\n",
       "0    Ouioui  20/02/2023  Tres bon article   \n",
       "1    Khalid  04/01/2023           Le prix   \n",
       "2   Mohamed  12/12/2022  beatiful product   \n",
       "3   Ouzzine  08/12/2022             رائعة   \n",
       "4     Hatim  01/12/2022              Bien   \n",
       "\n",
       "                                  review_description  \\\n",
       "0                                    Merci Decathlon   \n",
       "1  399dh c'est le juste prix. Pas moyen que quelq...   \n",
       "2  very useful product with good quality i advice...   \n",
       "3                                      ثمن مناسب جدا   \n",
       "4                                               Bien   \n",
       "\n",
       "                                     range_used  review_score  \n",
       "0      Utilise ce produit depuis 2 à 8 semaines             5  \n",
       "1      Utilise ce produit depuis 2 à 8 semaines             3  \n",
       "2  Utilise ce produit depuis 1 semaine ou moins             5  \n",
       "3      Utilise ce produit depuis 2 à 8 semaines             5  \n",
       "4  Utilise ce produit depuis 1 semaine ou moins             5  "
      ]
     },
     "execution_count": 66,
     "metadata": {},
     "output_type": "execute_result"
    }
   ],
   "source": [
    "df.head()"
   ]
  },
  {
   "attachments": {},
   "cell_type": "markdown",
   "metadata": {},
   "source": [
    "## II. 🧹 Data Cleaning"
   ]
  },
  {
   "attachments": {},
   "cell_type": "markdown",
   "metadata": {},
   "source": [
    "Adding an id column so we can concat the dataframe with the polarity scores dataframe afterwards"
   ]
  },
  {
   "cell_type": "code",
   "execution_count": 67,
   "metadata": {},
   "outputs": [],
   "source": [
    "df.insert(1, 'id', range(0, len(df)))"
   ]
  },
  {
   "cell_type": "code",
   "execution_count": 68,
   "metadata": {},
   "outputs": [
    {
     "data": {
      "text/html": [
       "<div>\n",
       "<style scoped>\n",
       "    .dataframe tbody tr th:only-of-type {\n",
       "        vertical-align: middle;\n",
       "    }\n",
       "\n",
       "    .dataframe tbody tr th {\n",
       "        vertical-align: top;\n",
       "    }\n",
       "\n",
       "    .dataframe thead th {\n",
       "        text-align: right;\n",
       "    }\n",
       "</style>\n",
       "<table border=\"1\" class=\"dataframe\">\n",
       "  <thead>\n",
       "    <tr style=\"text-align: right;\">\n",
       "      <th></th>\n",
       "      <th>cust_name</th>\n",
       "      <th>id</th>\n",
       "      <th>review_date</th>\n",
       "      <th>review_title</th>\n",
       "      <th>review_description</th>\n",
       "      <th>range_used</th>\n",
       "      <th>review_score</th>\n",
       "    </tr>\n",
       "  </thead>\n",
       "  <tbody>\n",
       "    <tr>\n",
       "      <th>0</th>\n",
       "      <td>Ouioui</td>\n",
       "      <td>0</td>\n",
       "      <td>20/02/2023</td>\n",
       "      <td>Tres bon article</td>\n",
       "      <td>Merci Decathlon</td>\n",
       "      <td>Utilise ce produit depuis 2 à 8 semaines</td>\n",
       "      <td>5</td>\n",
       "    </tr>\n",
       "    <tr>\n",
       "      <th>1</th>\n",
       "      <td>Khalid</td>\n",
       "      <td>1</td>\n",
       "      <td>04/01/2023</td>\n",
       "      <td>Le prix</td>\n",
       "      <td>399dh c'est le juste prix. Pas moyen que quelq...</td>\n",
       "      <td>Utilise ce produit depuis 2 à 8 semaines</td>\n",
       "      <td>3</td>\n",
       "    </tr>\n",
       "    <tr>\n",
       "      <th>2</th>\n",
       "      <td>Mohamed</td>\n",
       "      <td>2</td>\n",
       "      <td>12/12/2022</td>\n",
       "      <td>beatiful product</td>\n",
       "      <td>very useful product with good quality i advice...</td>\n",
       "      <td>Utilise ce produit depuis 1 semaine ou moins</td>\n",
       "      <td>5</td>\n",
       "    </tr>\n",
       "    <tr>\n",
       "      <th>3</th>\n",
       "      <td>Ouzzine</td>\n",
       "      <td>3</td>\n",
       "      <td>08/12/2022</td>\n",
       "      <td>رائعة</td>\n",
       "      <td>ثمن مناسب جدا</td>\n",
       "      <td>Utilise ce produit depuis 2 à 8 semaines</td>\n",
       "      <td>5</td>\n",
       "    </tr>\n",
       "    <tr>\n",
       "      <th>4</th>\n",
       "      <td>Hatim</td>\n",
       "      <td>4</td>\n",
       "      <td>01/12/2022</td>\n",
       "      <td>Bien</td>\n",
       "      <td>Bien</td>\n",
       "      <td>Utilise ce produit depuis 1 semaine ou moins</td>\n",
       "      <td>5</td>\n",
       "    </tr>\n",
       "  </tbody>\n",
       "</table>\n",
       "</div>"
      ],
      "text/plain": [
       "  cust_name  id review_date      review_title  \\\n",
       "0    Ouioui   0  20/02/2023  Tres bon article   \n",
       "1    Khalid   1  04/01/2023           Le prix   \n",
       "2   Mohamed   2  12/12/2022  beatiful product   \n",
       "3   Ouzzine   3  08/12/2022             رائعة   \n",
       "4     Hatim   4  01/12/2022              Bien   \n",
       "\n",
       "                                  review_description  \\\n",
       "0                                    Merci Decathlon   \n",
       "1  399dh c'est le juste prix. Pas moyen que quelq...   \n",
       "2  very useful product with good quality i advice...   \n",
       "3                                      ثمن مناسب جدا   \n",
       "4                                               Bien   \n",
       "\n",
       "                                     range_used  review_score  \n",
       "0      Utilise ce produit depuis 2 à 8 semaines             5  \n",
       "1      Utilise ce produit depuis 2 à 8 semaines             3  \n",
       "2  Utilise ce produit depuis 1 semaine ou moins             5  \n",
       "3      Utilise ce produit depuis 2 à 8 semaines             5  \n",
       "4  Utilise ce produit depuis 1 semaine ou moins             5  "
      ]
     },
     "execution_count": 68,
     "metadata": {},
     "output_type": "execute_result"
    }
   ],
   "source": [
    "df.head()"
   ]
  },
  {
   "attachments": {},
   "cell_type": "markdown",
   "metadata": {},
   "source": [
    "Deleting arabic and non text reviews descriptions"
   ]
  },
  {
   "cell_type": "code",
   "execution_count": 69,
   "metadata": {},
   "outputs": [],
   "source": [
    "# Function to check if a string contains Arabic text\n",
    "def has_arabic_text(text):\n",
    "    arabic_pattern = re.compile(r'[\\u0600-\\u06FF\\u0750-\\u077F\\uFB50-\\uFDFF\\uFE70-\\uFEFF]')\n",
    "    return bool(arabic_pattern.search(text))"
   ]
  },
  {
   "cell_type": "code",
   "execution_count": 70,
   "metadata": {},
   "outputs": [],
   "source": [
    "# Create a Boolean mask to identify rows with Arabic text\n",
    "mask = df['review_description'].apply(has_arabic_text)"
   ]
  },
  {
   "cell_type": "code",
   "execution_count": 71,
   "metadata": {},
   "outputs": [],
   "source": [
    "df = df[~df['review_description'].str.isnumeric()]"
   ]
  },
  {
   "cell_type": "code",
   "execution_count": 93,
   "metadata": {},
   "outputs": [
    {
     "name": "stderr",
     "output_type": "stream",
     "text": [
      "C:\\Users\\hamza\\AppData\\Local\\Temp\\ipykernel_11512\\1210784740.py:1: UserWarning: Boolean Series key will be reindexed to match DataFrame index.\n",
      "  df = df.drop(df[mask].index)\n"
     ]
    }
   ],
   "source": [
    "df = df.drop(df[mask].index)"
   ]
  },
  {
   "cell_type": "code",
   "execution_count": 95,
   "metadata": {},
   "outputs": [
    {
     "data": {
      "text/plain": [
       "(299, 7)"
      ]
     },
     "execution_count": 95,
     "metadata": {},
     "output_type": "execute_result"
    }
   ],
   "source": [
    "df.shape"
   ]
  },
  {
   "attachments": {},
   "cell_type": "markdown",
   "metadata": {},
   "source": [
    "Saving the cleaned version"
   ]
  },
  {
   "cell_type": "code",
   "execution_count": 96,
   "metadata": {},
   "outputs": [],
   "source": [
    "data_path = '../data/reviews/cleaned/'\n",
    "\n",
    "df.to_csv(data_path + 'kit-halteres-reviews-cleaned.csv', index=False)"
   ]
  },
  {
   "attachments": {},
   "cell_type": "markdown",
   "metadata": {},
   "source": [
    "Transform \"review_date\" to datetime"
   ]
  },
  {
   "cell_type": "code",
   "execution_count": 74,
   "metadata": {},
   "outputs": [
    {
     "name": "stderr",
     "output_type": "stream",
     "text": [
      "C:\\Users\\hamza\\AppData\\Local\\Temp\\ipykernel_11512\\4012396883.py:1: UserWarning: Parsing dates in DD/MM/YYYY format when dayfirst=False (the default) was specified. This may lead to inconsistently parsed dates! Specify a format to ensure consistent parsing.\n",
      "  df['review_date'] = pd.to_datetime(df['review_date'])\n"
     ]
    },
    {
     "data": {
      "text/html": [
       "<div>\n",
       "<style scoped>\n",
       "    .dataframe tbody tr th:only-of-type {\n",
       "        vertical-align: middle;\n",
       "    }\n",
       "\n",
       "    .dataframe tbody tr th {\n",
       "        vertical-align: top;\n",
       "    }\n",
       "\n",
       "    .dataframe thead th {\n",
       "        text-align: right;\n",
       "    }\n",
       "</style>\n",
       "<table border=\"1\" class=\"dataframe\">\n",
       "  <thead>\n",
       "    <tr style=\"text-align: right;\">\n",
       "      <th></th>\n",
       "      <th>cust_name</th>\n",
       "      <th>id</th>\n",
       "      <th>review_date</th>\n",
       "      <th>review_title</th>\n",
       "      <th>review_description</th>\n",
       "      <th>range_used</th>\n",
       "      <th>review_score</th>\n",
       "    </tr>\n",
       "  </thead>\n",
       "  <tbody>\n",
       "    <tr>\n",
       "      <th>0</th>\n",
       "      <td>Ouioui</td>\n",
       "      <td>0</td>\n",
       "      <td>2023-02-20</td>\n",
       "      <td>Tres bon article</td>\n",
       "      <td>Merci Decathlon</td>\n",
       "      <td>Utilise ce produit depuis 2 à 8 semaines</td>\n",
       "      <td>5</td>\n",
       "    </tr>\n",
       "    <tr>\n",
       "      <th>1</th>\n",
       "      <td>Khalid</td>\n",
       "      <td>1</td>\n",
       "      <td>2023-04-01</td>\n",
       "      <td>Le prix</td>\n",
       "      <td>399dh c'est le juste prix. Pas moyen que quelq...</td>\n",
       "      <td>Utilise ce produit depuis 2 à 8 semaines</td>\n",
       "      <td>3</td>\n",
       "    </tr>\n",
       "    <tr>\n",
       "      <th>2</th>\n",
       "      <td>Mohamed</td>\n",
       "      <td>2</td>\n",
       "      <td>2022-12-12</td>\n",
       "      <td>beatiful product</td>\n",
       "      <td>very useful product with good quality i advice...</td>\n",
       "      <td>Utilise ce produit depuis 1 semaine ou moins</td>\n",
       "      <td>5</td>\n",
       "    </tr>\n",
       "    <tr>\n",
       "      <th>4</th>\n",
       "      <td>Hatim</td>\n",
       "      <td>4</td>\n",
       "      <td>2022-01-12</td>\n",
       "      <td>Bien</td>\n",
       "      <td>Bien</td>\n",
       "      <td>Utilise ce produit depuis 1 semaine ou moins</td>\n",
       "      <td>5</td>\n",
       "    </tr>\n",
       "    <tr>\n",
       "      <th>5</th>\n",
       "      <td>Abdelaziz</td>\n",
       "      <td>5</td>\n",
       "      <td>2022-11-18</td>\n",
       "      <td>tres bon article</td>\n",
       "      <td>tres bon article</td>\n",
       "      <td>Utilise ce produit depuis 1 semaine ou moins</td>\n",
       "      <td>5</td>\n",
       "    </tr>\n",
       "  </tbody>\n",
       "</table>\n",
       "</div>"
      ],
      "text/plain": [
       "   cust_name  id review_date      review_title  \\\n",
       "0     Ouioui   0  2023-02-20  Tres bon article   \n",
       "1     Khalid   1  2023-04-01           Le prix   \n",
       "2    Mohamed   2  2022-12-12  beatiful product   \n",
       "4      Hatim   4  2022-01-12              Bien   \n",
       "5  Abdelaziz   5  2022-11-18  tres bon article   \n",
       "\n",
       "                                  review_description  \\\n",
       "0                                    Merci Decathlon   \n",
       "1  399dh c'est le juste prix. Pas moyen que quelq...   \n",
       "2  very useful product with good quality i advice...   \n",
       "4                                               Bien   \n",
       "5                                   tres bon article   \n",
       "\n",
       "                                     range_used  review_score  \n",
       "0      Utilise ce produit depuis 2 à 8 semaines             5  \n",
       "1      Utilise ce produit depuis 2 à 8 semaines             3  \n",
       "2  Utilise ce produit depuis 1 semaine ou moins             5  \n",
       "4  Utilise ce produit depuis 1 semaine ou moins             5  \n",
       "5  Utilise ce produit depuis 1 semaine ou moins             5  "
      ]
     },
     "execution_count": 74,
     "metadata": {},
     "output_type": "execute_result"
    }
   ],
   "source": [
    "df['review_date'] = pd.to_datetime(df['review_date'])\n",
    "df.head()"
   ]
  },
  {
   "attachments": {},
   "cell_type": "markdown",
   "metadata": {},
   "source": [
    "## III. 🕵️ Data Exploration"
   ]
  },
  {
   "cell_type": "code",
   "execution_count": 75,
   "metadata": {},
   "outputs": [
    {
     "data": {
      "image/png": "[encoded data removed]",
      "text/plain": [
       "<Figure size 500x500 with 1 Axes>"
      ]
     },
     "metadata": {},
     "output_type": "display_data"
    }
   ],
   "source": [
    "ax = df['review_score'].value_counts().sort_index() \\\n",
    "    .plot(kind='bar',\n",
    "          title='Count of Reviews by Stars',\n",
    "          figsize=(5, 5),\n",
    "          color=\"orange\")\n",
    "\n",
    "ax.set_xlabel('Review Stars')\n",
    "ax.set_ylabel('Count')\n",
    "plt.show()"
   ]
  },
  {
   "attachments": {},
   "cell_type": "markdown",
   "metadata": {},
   "source": [
    "Most reviews have 4 and 5 stars."
   ]
  },
  {
   "cell_type": "code",
   "execution_count": 76,
   "metadata": {},
   "outputs": [
    {
     "name": "stdout",
     "output_type": "stream",
     "text": [
      "Average rating stars : 4.7 ⭐\n"
     ]
    }
   ],
   "source": [
    "avg_rating = round(df['review_score'].mean(), 1)\n",
    "print(f\"Average rating stars : {avg_rating} ⭐\")"
   ]
  },
  {
   "attachments": {},
   "cell_type": "markdown",
   "metadata": {},
   "source": [
    "## IV. 💬 Sentiment Analysis Using Vader "
   ]
  },
  {
   "attachments": {},
   "cell_type": "markdown",
   "metadata": {},
   "source": [
    "Let's take an example review and use NTLK on it"
   ]
  },
  {
   "cell_type": "code",
   "execution_count": 97,
   "metadata": {},
   "outputs": [
    {
     "name": "stdout",
     "output_type": "stream",
     "text": [
      "Fort utile et facilement transportable. Je peux m'en servir très régulièrement. Donc parfait et en plus, on peut facilement le compléter --- Rating : ⭐⭐⭐⭐⭐\n"
     ]
    }
   ],
   "source": [
    "example_desc = df['review_description'][25]\n",
    "example_score = df['review_score'][25]\n",
    "\n",
    "print(example_desc + \" --- Rating : \" + example_score * \"⭐\")"
   ]
  },
  {
   "cell_type": "code",
   "execution_count": 78,
   "metadata": {},
   "outputs": [
    {
     "data": {
      "text/plain": [
       "['Fort',\n",
       " 'utile',\n",
       " 'et',\n",
       " 'facilement',\n",
       " 'transportable',\n",
       " '.',\n",
       " 'Je',\n",
       " 'peux',\n",
       " \"m'en\",\n",
       " 'servir']"
      ]
     },
     "execution_count": 78,
     "metadata": {},
     "output_type": "execute_result"
    }
   ],
   "source": [
    "tokens = nltk.word_tokenize(example_desc )\n",
    "tokens[:10]"
   ]
  },
  {
   "cell_type": "code",
   "execution_count": 79,
   "metadata": {},
   "outputs": [
    {
     "data": {
      "text/plain": [
       "[('Fort', 'NNP'),\n",
       " ('utile', 'JJ'),\n",
       " ('et', 'FW'),\n",
       " ('facilement', 'NN'),\n",
       " ('transportable', 'NN'),\n",
       " ('.', '.'),\n",
       " ('Je', 'NNP'),\n",
       " ('peux', 'NN'),\n",
       " (\"m'en\", 'NN'),\n",
       " ('servir', 'NN')]"
      ]
     },
     "execution_count": 79,
     "metadata": {},
     "output_type": "execute_result"
    }
   ],
   "source": [
    "tagged = nltk.pos_tag(tokens)\n",
    "tagged[:10]"
   ]
  },
  {
   "cell_type": "code",
   "execution_count": 80,
   "metadata": {},
   "outputs": [
    {
     "name": "stdout",
     "output_type": "stream",
     "text": [
      "(S\n",
      "  Fort/NNP\n",
      "  utile/JJ\n",
      "  et/FW\n",
      "  facilement/NN\n",
      "  transportable/NN\n",
      "  ./.\n",
      "  Je/NNP\n",
      "  peux/NN\n",
      "  m'en/NN\n",
      "  servir/NN\n",
      "  très/NN\n",
      "  régulièrement/NN\n",
      "  ./.\n",
      "  (PERSON Donc/NNP)\n",
      "  parfait/NN\n",
      "  et/NN\n",
      "  en/IN\n",
      "  plus/CC\n",
      "  ,/,\n",
      "  on/IN\n",
      "  peut/JJ\n",
      "  facilement/NN\n",
      "  le/NN\n",
      "  compléter/NN)\n"
     ]
    }
   ],
   "source": [
    "entities = nltk.chunk.ne_chunk(tagged)\n",
    "entities.pprint()"
   ]
  },
  {
   "cell_type": "code",
   "execution_count": 81,
   "metadata": {},
   "outputs": [],
   "source": [
    "from vaderSentiment.vaderSentiment import SentimentIntensityAnalyzer\n",
    "from tqdm.notebook import tqdm\n",
    "\n",
    "sia = SentimentIntensityAnalyzer()"
   ]
  },
  {
   "cell_type": "code",
   "execution_count": 90,
   "metadata": {},
   "outputs": [
    {
     "data": {
      "text/plain": [
       "{'neg': 0.0, 'neu': 0.561, 'pos': 0.439, 'compound': 0.9236}"
      ]
     },
     "execution_count": 90,
     "metadata": {},
     "output_type": "execute_result"
    }
   ],
   "source": [
    "sia.polarity_scores(example_desc)"
   ]
  },
  {
   "cell_type": "code",
   "execution_count": 91,
   "metadata": {},
   "outputs": [
    {
     "name": "stdout",
     "output_type": "stream",
     "text": [
      "Our example review : 'Fort utile et facile...' has a compound score of 0.92 which means it's a positive review.\n"
     ]
    }
   ],
   "source": [
    "print(f\"Our example review : '{example_desc[:20]}...' has a compound score of 0.92 which means it's a positive review.\")"
   ]
  },
  {
   "cell_type": "code",
   "execution_count": 92,
   "metadata": {},
   "outputs": [
    {
     "data": {
      "application/vnd.jupyter.widget-view+json": {
       "model_id": "23f58a5332f4420284d2e5a96529c37b",
       "version_major": 2,
       "version_minor": 0
      },
      "text/plain": [
       "  0%|          | 0/299 [00:00<?, ?it/s]"
      ]
     },
     "metadata": {},
     "output_type": "display_data"
    }
   ],
   "source": [
    "# Run the polarity score on the entire dataset\n",
    "res = {}\n",
    "\n",
    "for i, row in tqdm(df.iterrows(), total=len(df)):\n",
    "    text = row['review_description']\n",
    "    myid = row['id']\n",
    "    res[myid] = sia.polarity_scores(text)"
   ]
  },
  {
   "cell_type": "code",
   "execution_count": null,
   "metadata": {},
   "outputs": [],
   "source": [
    "vaders = pd.DataFrame(res).T\n",
    "vaders = vaders.reset_index().rename(columns={'index': 'id'})\n",
    "vaders = vaders.merge(df, how='left')"
   ]
  },
  {
   "cell_type": "code",
   "execution_count": null,
   "metadata": {},
   "outputs": [
    {
     "data": {
      "text/html": [
       "<div>\n",
       "<style scoped>\n",
       "    .dataframe tbody tr th:only-of-type {\n",
       "        vertical-align: middle;\n",
       "    }\n",
       "\n",
       "    .dataframe tbody tr th {\n",
       "        vertical-align: top;\n",
       "    }\n",
       "\n",
       "    .dataframe thead th {\n",
       "        text-align: right;\n",
       "    }\n",
       "</style>\n",
       "<table border=\"1\" class=\"dataframe\">\n",
       "  <thead>\n",
       "    <tr style=\"text-align: right;\">\n",
       "      <th></th>\n",
       "      <th>id</th>\n",
       "      <th>neg</th>\n",
       "      <th>neu</th>\n",
       "      <th>pos</th>\n",
       "      <th>compound</th>\n",
       "      <th>cust_name</th>\n",
       "      <th>review_date</th>\n",
       "      <th>review_title</th>\n",
       "      <th>review_description</th>\n",
       "      <th>range_used</th>\n",
       "      <th>review_score</th>\n",
       "    </tr>\n",
       "  </thead>\n",
       "  <tbody>\n",
       "    <tr>\n",
       "      <th>0</th>\n",
       "      <td>0</td>\n",
       "      <td>0.000</td>\n",
       "      <td>0.444</td>\n",
       "      <td>0.556</td>\n",
       "      <td>0.3612</td>\n",
       "      <td>Ouioui</td>\n",
       "      <td>20/02/2023</td>\n",
       "      <td>Tres bon article</td>\n",
       "      <td>Merci Decathlon</td>\n",
       "      <td>Utilise ce produit depuis 2 à 8 semaines</td>\n",
       "      <td>5</td>\n",
       "    </tr>\n",
       "    <tr>\n",
       "      <th>1</th>\n",
       "      <td>1</td>\n",
       "      <td>0.136</td>\n",
       "      <td>0.864</td>\n",
       "      <td>0.000</td>\n",
       "      <td>-0.2960</td>\n",
       "      <td>Khalid</td>\n",
       "      <td>04/01/2023</td>\n",
       "      <td>Le prix</td>\n",
       "      <td>399dh c'est le juste prix. Pas moyen que quelq...</td>\n",
       "      <td>Utilise ce produit depuis 2 à 8 semaines</td>\n",
       "      <td>3</td>\n",
       "    </tr>\n",
       "    <tr>\n",
       "      <th>2</th>\n",
       "      <td>2</td>\n",
       "      <td>0.000</td>\n",
       "      <td>0.697</td>\n",
       "      <td>0.303</td>\n",
       "      <td>0.7264</td>\n",
       "      <td>Mohamed</td>\n",
       "      <td>12/12/2022</td>\n",
       "      <td>beatiful product</td>\n",
       "      <td>very useful product with good quality i advice...</td>\n",
       "      <td>Utilise ce produit depuis 1 semaine ou moins</td>\n",
       "      <td>5</td>\n",
       "    </tr>\n",
       "    <tr>\n",
       "      <th>3</th>\n",
       "      <td>4</td>\n",
       "      <td>0.000</td>\n",
       "      <td>0.000</td>\n",
       "      <td>1.000</td>\n",
       "      <td>0.4404</td>\n",
       "      <td>Hatim</td>\n",
       "      <td>01/12/2022</td>\n",
       "      <td>Bien</td>\n",
       "      <td>Bien</td>\n",
       "      <td>Utilise ce produit depuis 1 semaine ou moins</td>\n",
       "      <td>5</td>\n",
       "    </tr>\n",
       "    <tr>\n",
       "      <th>4</th>\n",
       "      <td>5</td>\n",
       "      <td>0.000</td>\n",
       "      <td>0.408</td>\n",
       "      <td>0.592</td>\n",
       "      <td>0.4404</td>\n",
       "      <td>Abdelaziz</td>\n",
       "      <td>18/11/2022</td>\n",
       "      <td>tres bon article</td>\n",
       "      <td>tres bon article</td>\n",
       "      <td>Utilise ce produit depuis 1 semaine ou moins</td>\n",
       "      <td>5</td>\n",
       "    </tr>\n",
       "  </tbody>\n",
       "</table>\n",
       "</div>"
      ],
      "text/plain": [
       "   id    neg    neu    pos  compound  cust_name review_date      review_title  \\\n",
       "0   0  0.000  0.444  0.556    0.3612     Ouioui  20/02/2023  Tres bon article   \n",
       "1   1  0.136  0.864  0.000   -0.2960     Khalid  04/01/2023           Le prix   \n",
       "2   2  0.000  0.697  0.303    0.7264    Mohamed  12/12/2022  beatiful product   \n",
       "3   4  0.000  0.000  1.000    0.4404      Hatim  01/12/2022              Bien   \n",
       "4   5  0.000  0.408  0.592    0.4404  Abdelaziz  18/11/2022  tres bon article   \n",
       "\n",
       "                                  review_description  \\\n",
       "0                                    Merci Decathlon   \n",
       "1  399dh c'est le juste prix. Pas moyen que quelq...   \n",
       "2  very useful product with good quality i advice...   \n",
       "3                                               Bien   \n",
       "4                                   tres bon article   \n",
       "\n",
       "                                     range_used  review_score  \n",
       "0      Utilise ce produit depuis 2 à 8 semaines             5  \n",
       "1      Utilise ce produit depuis 2 à 8 semaines             3  \n",
       "2  Utilise ce produit depuis 1 semaine ou moins             5  \n",
       "3  Utilise ce produit depuis 1 semaine ou moins             5  \n",
       "4  Utilise ce produit depuis 1 semaine ou moins             5  "
      ]
     },
     "execution_count": 43,
     "metadata": {},
     "output_type": "execute_result"
    }
   ],
   "source": [
    "vaders.head()"
   ]
  },
  {
   "cell_type": "code",
   "execution_count": null,
   "metadata": {},
   "outputs": [
    {
     "data": {
      "image/png": "[encoded data removed]",
      "text/plain": [
       "<Figure size 640x480 with 1 Axes>"
      ]
     },
     "metadata": {},
     "output_type": "display_data"
    }
   ],
   "source": [
    "ax = sns.barplot(data=vaders, x='review_score', y='compound')\n",
    "ax.set_title('Compound Score by Star Review')\n",
    "plt.show()"
   ]
  },
  {
   "attachments": {},
   "cell_type": "markdown",
   "metadata": {},
   "source": [
    "We can see that positive reviews descriptions have 4+ stars and negative ones have 1 stars, however 3 stars reviews are neutral."
   ]
  },
  {
   "cell_type": "code",
   "execution_count": null,
   "metadata": {},
   "outputs": [
    {
     "data": {
      "image/png": "[encoded data removed]",
      "text/plain": [
       "<Figure size 1200x300 with 3 Axes>"
      ]
     },
     "metadata": {},
     "output_type": "display_data"
    }
   ],
   "source": [
    "fig, axs = plt.subplots(1, 3, figsize=(12, 3))\n",
    "sns.barplot(data=vaders, x='review_score', y='pos', ax=axs[0])\n",
    "sns.barplot(data=vaders, x='review_score', y='neu', ax=axs[1])\n",
    "sns.barplot(data=vaders, x='review_score', y='neg', ax=axs[2])\n",
    "axs[0].set_title('Positive')\n",
    "axs[1].set_title('Neutral')\n",
    "axs[2].set_title('Negative')\n",
    "plt.tight_layout()\n",
    "plt.show()"
   ]
  },
  {
   "attachments": {},
   "cell_type": "markdown",
   "metadata": {},
   "source": [
    "Let's see some negative reviews but classified as positive."
   ]
  },
  {
   "cell_type": "code",
   "execution_count": null,
   "metadata": {},
   "outputs": [
    {
     "data": {
      "text/plain": [
       "\"Le coffret n'est pas de 20kg mais 18kg, il n'y a pas 8 x 1kg comme indiqué mais si 6 x 1kg !! Du coup on ne peut pas mettre la même charge 'complète' sur les 2 altères, il va nous rester 2x1kg qui vont servir a rien si on veut utiliser les 2 altères en même temps!\""
      ]
     },
     "execution_count": 26,
     "metadata": {},
     "output_type": "execute_result"
    }
   ],
   "source": [
    "vaders.query('review_score == 1') \\\n",
    "    .sort_values('pos', ascending=False)['review_description'].values[0]"
   ]
  },
  {
   "attachments": {},
   "cell_type": "markdown",
   "metadata": {},
   "source": [
    "Now let's see a positive review but classified as negative."
   ]
  },
  {
   "cell_type": "code",
   "execution_count": null,
   "metadata": {},
   "outputs": [
    {
     "data": {
      "text/plain": [
       "'Rien à dire de particulier'"
      ]
     },
     "execution_count": 27,
     "metadata": {},
     "output_type": "execute_result"
    }
   ],
   "source": [
    "vaders.query('review_score == 5') \\\n",
    "    .sort_values('neg', ascending=False)['review_description'].values[0]"
   ]
  }
 ],
 "metadata": {
  "kernelspec": {
   "display_name": "Python 3",
   "language": "python",
   "name": "python3"
  },
  "language_info": {
   "codemirror_mode": {
    "name": "ipython",
    "version": 3
   },
   "file_extension": ".py",
   "mimetype": "text/x-python",
   "name": "python",
   "nbconvert_exporter": "python",
   "pygments_lexer": "ipython3",
   "version": "3.10.5"
  },
  "orig_nbformat": 4
 },
 "nbformat": 4,
 "nbformat_minor": 2
}
